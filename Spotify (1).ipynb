{
 "cells": [
  {
   "cell_type": "code",
   "execution_count": 1,
   "id": "1d799815-9711-4d51-aae1-8cd92b65eb5c",
   "metadata": {},
   "outputs": [
    {
     "name": "stdout",
     "output_type": "stream",
     "text": [
      "Defaulting to user installation because normal site-packages is not writeable\n",
      "Requirement already satisfied: spotipy in /home/vl306/.local/lib/python3.12/site-packages (2.25.1)\n",
      "Requirement already satisfied: redis>=3.5.3 in /home/vl306/.local/lib/python3.12/site-packages (from spotipy) (5.2.1)\n",
      "Requirement already satisfied: requests>=2.25.0 in /usr/local/venv/lib/python3.12/site-packages (from spotipy) (2.32.3)\n",
      "Requirement already satisfied: urllib3>=1.26.0 in /usr/local/venv/lib/python3.12/site-packages (from spotipy) (2.2.3)\n",
      "Requirement already satisfied: charset-normalizer<4,>=2 in /usr/local/venv/lib/python3.12/site-packages (from requests>=2.25.0->spotipy) (3.4.0)\n",
      "Requirement already satisfied: idna<4,>=2.5 in /usr/local/venv/lib/python3.12/site-packages (from requests>=2.25.0->spotipy) (3.10)\n",
      "Requirement already satisfied: certifi>=2017.4.17 in /usr/local/venv/lib/python3.12/site-packages (from requests>=2.25.0->spotipy) (2024.8.30)\n",
      "\n",
      "\u001b[1m[\u001b[0m\u001b[34;49mnotice\u001b[0m\u001b[1;39;49m]\u001b[0m\u001b[39;49m A new release of pip is available: \u001b[0m\u001b[31;49m24.2\u001b[0m\u001b[39;49m -> \u001b[0m\u001b[32;49m25.0.1\u001b[0m\n",
      "\u001b[1m[\u001b[0m\u001b[34;49mnotice\u001b[0m\u001b[1;39;49m]\u001b[0m\u001b[39;49m To update, run: \u001b[0m\u001b[32;49mpip install --upgrade pip\u001b[0m\n"
     ]
    }
   ],
   "source": [
    "!pip install spotipy"
   ]
  },
  {
   "cell_type": "code",
   "execution_count": 2,
   "id": "aa5fcd25-e447-4238-b6a0-966bf5b78a1c",
   "metadata": {},
   "outputs": [],
   "source": [
    "# import libraries\n",
    "import time\n",
    "import spotipy\n",
    "from spotipy.oauth2 import SpotifyClientCredentials\n",
    "import numpy as np\n",
    "import pandas as pd"
   ]
  },
  {
   "cell_type": "markdown",
   "id": "3a676650-121c-4092-8b84-b29c80865f59",
   "metadata": {},
   "source": [
    "### Spotify API"
   ]
  },
  {
   "cell_type": "code",
   "execution_count": 3,
   "id": "9e0e2855-b3e7-42b1-bd51-2d76ee93a502",
   "metadata": {},
   "outputs": [],
   "source": [
    "# Set up API credentials\n",
    "client_id = \"3ff1e45f1c8d4189b317e02b3dc349b6\"\n",
    "client_secret = \"878f0386a88f4c08b54199f30770c950\"\n",
    "\n",
    "sp = spotipy.Spotify(auth_manager=SpotifyClientCredentials(client_id=client_id, client_secret=client_secret))"
   ]
  },
  {
   "cell_type": "markdown",
   "id": "f07d2960-7a82-47a5-a0f6-92f23144eb61",
   "metadata": {},
   "source": [
    "### Get Tracks"
   ]
  },
  {
   "cell_type": "code",
   "execution_count": 4,
   "id": "b2fe7bac-cc83-40b6-ad4f-d9d5dfc4b3ab",
   "metadata": {
    "scrolled": true
   },
   "outputs": [],
   "source": [
    "# Get a list of n tracks each year from start to end year (inclusive)\n",
    "def top_tracks_by_year(start, end, top_n):\n",
    "    results_by_year = {}\n",
    "\n",
    "    for year in range(start, end+1):\n",
    "        query = f'year:{year}'\n",
    "        track_info = sp.search(q=query, type='track', limit=top_n, market='US')\n",
    "        top_tracks = []\n",
    "\n",
    "        for t in track_info['tracks']['items']:\n",
    "            track_name = t['name']\n",
    "            artists = t['artists'][0]['name']\n",
    "            album = t['album']['name']\n",
    "            popularity = t['popularity']\n",
    "            track_id = t['id']\n",
    "            \n",
    "            top_tracks.append({\n",
    "                'name': track_name,\n",
    "                'artists': artists,\n",
    "                'album': album,\n",
    "                'popularity': popularity,\n",
    "                'id': track_id\n",
    "            })\n",
    "\n",
    "        results_by_year[year] = top_tracks\n",
    "\n",
    "    return results_by_year\n",
    "\n",
    "# Change year and top n tracks here\n",
    "top_tracks = top_tracks_by_year(1951, 2020, 20)"
   ]
  },
  {
   "cell_type": "markdown",
   "id": "3cb55916-d3c8-48a7-9dc8-220fb3a3a8a2",
   "metadata": {},
   "source": [
    "### Convert to DF"
   ]
  },
  {
   "cell_type": "code",
   "execution_count": 5,
   "id": "2cd28020-4441-4979-9bb2-48c632483521",
   "metadata": {},
   "outputs": [],
   "source": [
    "data = []\n",
    "\n",
    "# Append tracks and their features to data\n",
    "for year in top_tracks:\n",
    "    tracks = top_tracks[year]\n",
    "    rank = 1\n",
    "\n",
    "    for track in tracks:\n",
    "        data.append({\n",
    "            'Year': year,\n",
    "            'Track Name': track['name'],\n",
    "            'Artist(s)': track['artists'],\n",
    "            'Album': track['album'],\n",
    "            'Popularity': track['popularity'],\n",
    "            'Track ID': track['id']\n",
    "        })\n",
    "        rank += 1\n",
    "\n",
    "# Create the DataFrame\n",
    "df = pd.DataFrame(data)\n",
    "\n",
    "# Create csv file, move this down after adding genre to df\n",
    "### Delete this file each time you add new things to df, so it updates the file\n",
    "df.to_csv('spotify_top_tracks_by_year.csv', index=False)  "
   ]
  },
  {
   "cell_type": "code",
   "execution_count": null,
   "id": "55bc605f-c0f5-440a-ad43-437cf0fb5dee",
   "metadata": {},
   "outputs": [],
   "source": []
  }
 ],
 "metadata": {
  "kernelspec": {
   "display_name": "Python 3 (ipykernel)",
   "language": "python",
   "name": "python3"
  },
  "language_info": {
   "codemirror_mode": {
    "name": "ipython",
    "version": 3
   },
   "file_extension": ".py",
   "mimetype": "text/x-python",
   "name": "python",
   "nbconvert_exporter": "python",
   "pygments_lexer": "ipython3",
   "version": "3.12.7"
  }
 },
 "nbformat": 4,
 "nbformat_minor": 5
}
