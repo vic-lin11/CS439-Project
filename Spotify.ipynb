{
 "cells": [
  {
   "cell_type": "code",
   "execution_count": null,
   "id": "1d308fad-4dce-473f-8e4e-eb55ea17c097",
   "metadata": {},
   "outputs": [],
   "source": [
    "!pip install spotipy"
   ]
  },
  {
   "cell_type": "code",
   "execution_count": null,
   "id": "20551339",
   "metadata": {},
   "outputs": [],
   "source": [
    "pip install tqdm"
   ]
  },
  {
   "cell_type": "code",
   "execution_count": null,
   "id": "abc7a5ae",
   "metadata": {},
   "outputs": [],
   "source": [
    "# import libraries\n",
    "import numpy as np\n",
    "import pandas as pd\n",
    "\n",
    "import spotipy\n",
    "from spotipy.oauth2 import SpotifyClientCredentials\n",
    "\n",
    "from tqdm import tqdm  \n",
    "import time"
   ]
  },
  {
   "cell_type": "markdown",
   "id": "aa5fcd25-e447-4238-b6a0-966bf5b78a1c",
   "metadata": {},
   "source": [
    "### Spotify API"
   ]
  },
  {
   "cell_type": "code",
   "execution_count": null,
   "id": "9e0e2855-b3e7-42b1-bd51-2d76ee93a502",
   "metadata": {},
   "outputs": [],
   "source": [
    "# Set up API credentials\n",
    "client_id = \"\"  # Replace with your actual Client ID\n",
    "client_secret = \"\"  # Replace with your actual Client Secret\n",
    "\n",
    "sp = spotipy.Spotify(auth_manager=SpotifyClientCredentials(client_id=client_id, client_secret=client_secret))"
   ]
  },
  {
   "cell_type": "markdown",
   "id": "f07d2960-7a82-47a5-a0f6-92f23144eb61",
   "metadata": {},
   "source": [
    "### Get Tracks"
   ]
  },
  {
   "cell_type": "code",
   "execution_count": null,
   "id": "b2fe7bac-cc83-40b6-ad4f-d9d5dfc4b3ab",
   "metadata": {},
   "outputs": [],
   "source": [
    "# Get a list of n tracks each year from start to end year (inclusive)\n",
    "def top_tracks_by_year(start, end, top_n):\n",
    "    results_by_year = {}\n",
    "\n",
    "    for year in range(start, end+1):\n",
    "        query = f'year:{year}'\n",
    "        track_info = sp.search(q=query, type='track', limit=top_n)\n",
    "        top_tracks = []\n",
    "\n",
    "        for t in track_info['tracks']['items']:\n",
    "            track_name = t['name']\n",
    "            artists = t['artists'][0]['name']\n",
    "            popularity = t['popularity']\n",
    "            track_id = t['id']\n",
    "            \n",
    "            top_tracks.append({\n",
    "                'name': track_name,\n",
    "                'artists': artists,\n",
    "                'popularity': popularity,\n",
    "                'id': track_id\n",
    "            })\n",
    "\n",
    "        results_by_year[year] = top_tracks\n",
    "\n",
    "    return results_by_year\n",
    "\n",
    "# Change year and top n tracks here\n",
    "top_tracks = top_tracks_by_year(1950, 2020, 20)"
   ]
  },
  {
   "cell_type": "markdown",
   "id": "3cb55916-d3c8-48a7-9dc8-220fb3a3a8a2",
   "metadata": {},
   "source": [
    "### Convert to DF"
   ]
  },
  {
   "cell_type": "code",
   "execution_count": null,
   "id": "2cd28020-4441-4979-9bb2-48c632483521",
   "metadata": {},
   "outputs": [],
   "source": [
    "data = []\n",
    "\n",
    "# Append tracks and their features to data\n",
    "for year in top_tracks:\n",
    "    tracks = top_tracks[year]\n",
    "    rank = 1\n",
    "\n",
    "    for track in tracks:\n",
    "        data.append({\n",
    "            'Year': year,\n",
    "            'Rank': rank,\n",
    "            'Track Name': track['name'],\n",
    "            'Artist(s)': track['artists'],\n",
    "            'Popularity': track['popularity'],\n",
    "            'Track ID': track['id']\n",
    "        })\n",
    "        rank += 1\n",
    "\n",
    "# Create the DataFrame\n",
    "df = pd.DataFrame(data)\n",
    "\n",
    "# Create csv file, move this down after adding genre to df\n",
    "### Delete this file each time you add new things to df, so it updates the file\n",
    "df.to_csv('spotify_top_tracks_by_year.csv', index=False)  "
   ]
  },
  {
   "cell_type": "markdown",
   "id": "1922e2d4",
   "metadata": {},
   "source": [
    "### Create Genres"
   ]
  },
  {
   "cell_type": "code",
   "execution_count": null,
   "id": "6dce3480",
   "metadata": {},
   "outputs": [],
   "source": [
    "# Create a list to store genres\n",
    "genres_list = []\n",
    "\n",
    "# Loop through the DataFrame to get genres from artist info\n",
    "for idx, row in tqdm(df.iterrows(), total=len(df)):\n",
    "    try:\n",
    "        artist_name = row['Artist(s)']\n",
    "        search_artist = sp.search(q=f\"artist:{artist_name}\", type='artist')\n",
    "        artist_items = search_artist['artists']['items']\n",
    "        \n",
    "        if artist_items:\n",
    "            artist_info = artist_items[0]\n",
    "            genres = artist_info['genres']\n",
    "            genres_list.append(genres[0] if genres else None)  # Pick the first genre if exists\n",
    "        else:\n",
    "            genres_list.append(None)\n",
    "            \n",
    "    except Exception as e:\n",
    "        genres_list.append(None)\n",
    "\n",
    "    time.sleep(0.05)  # Prevent hitting rate limit\n",
    "\n",
    "# Add genre column to your DataFrame\n",
    "df['Genre'] = genres_list\n",
    "\n",
    "# Save the updated DataFrame\n",
    "df.to_csv('spotify_top_tracks_with_genres.csv', index=False)"
   ]
  }
 ],
 "metadata": {
  "kernelspec": {
   "display_name": "Python 3 (ipykernel)",
   "language": "python",
   "name": "python3"
  },
  "language_info": {
   "codemirror_mode": {
    "name": "ipython",
    "version": 3
   },
   "file_extension": ".py",
   "mimetype": "text/x-python",
   "name": "python",
   "nbconvert_exporter": "python",
   "pygments_lexer": "ipython3",
   "version": "3.12.7"
  }
 },
 "nbformat": 4,
 "nbformat_minor": 5
}
