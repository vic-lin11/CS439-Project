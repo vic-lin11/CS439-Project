{
 "cells": [
  {
   "cell_type": "code",
   "execution_count": 37,
   "id": "1d308fad-4dce-473f-8e4e-eb55ea17c097",
   "metadata": {},
   "outputs": [
    {
     "name": "stdout",
     "output_type": "stream",
     "text": [
      "Defaulting to user installation because normal site-packages is not writeable\n",
      "Requirement already satisfied: spotipy in /home/vl306/.local/lib/python3.12/site-packages (2.25.1)\n",
      "Requirement already satisfied: redis>=3.5.3 in /home/vl306/.local/lib/python3.12/site-packages (from spotipy) (5.2.1)\n",
      "Requirement already satisfied: requests>=2.25.0 in /usr/local/venv/lib/python3.12/site-packages (from spotipy) (2.32.3)\n",
      "Requirement already satisfied: urllib3>=1.26.0 in /usr/local/venv/lib/python3.12/site-packages (from spotipy) (2.2.3)\n",
      "Requirement already satisfied: charset-normalizer<4,>=2 in /usr/local/venv/lib/python3.12/site-packages (from requests>=2.25.0->spotipy) (3.4.0)\n",
      "Requirement already satisfied: idna<4,>=2.5 in /usr/local/venv/lib/python3.12/site-packages (from requests>=2.25.0->spotipy) (3.10)\n",
      "Requirement already satisfied: certifi>=2017.4.17 in /usr/local/venv/lib/python3.12/site-packages (from requests>=2.25.0->spotipy) (2024.8.30)\n",
      "\n",
      "\u001b[1m[\u001b[0m\u001b[34;49mnotice\u001b[0m\u001b[1;39;49m]\u001b[0m\u001b[39;49m A new release of pip is available: \u001b[0m\u001b[31;49m24.2\u001b[0m\u001b[39;49m -> \u001b[0m\u001b[32;49m25.1.1\u001b[0m\n",
      "\u001b[1m[\u001b[0m\u001b[34;49mnotice\u001b[0m\u001b[1;39;49m]\u001b[0m\u001b[39;49m To update, run: \u001b[0m\u001b[32;49mpip install --upgrade pip\u001b[0m\n"
     ]
    }
   ],
   "source": [
    "!pip install spotipy"
   ]
  },
  {
   "cell_type": "code",
   "execution_count": 38,
   "id": "114415ba-6ee9-4781-95fc-52b033fe0024",
   "metadata": {},
   "outputs": [
    {
     "name": "stdout",
     "output_type": "stream",
     "text": [
      "Defaulting to user installation because normal site-packages is not writeable\n",
      "Requirement already satisfied: tqdm in /usr/local/venv/lib/python3.12/site-packages (4.67.0)\n",
      "\n",
      "\u001b[1m[\u001b[0m\u001b[34;49mnotice\u001b[0m\u001b[1;39;49m]\u001b[0m\u001b[39;49m A new release of pip is available: \u001b[0m\u001b[31;49m24.2\u001b[0m\u001b[39;49m -> \u001b[0m\u001b[32;49m25.1.1\u001b[0m\n",
      "\u001b[1m[\u001b[0m\u001b[34;49mnotice\u001b[0m\u001b[1;39;49m]\u001b[0m\u001b[39;49m To update, run: \u001b[0m\u001b[32;49mpip install --upgrade pip\u001b[0m\n",
      "Note: you may need to restart the kernel to use updated packages.\n"
     ]
    }
   ],
   "source": [
    "pip install tqdm"
   ]
  },
  {
   "cell_type": "markdown",
   "id": "3296ff60-9339-431e-967b-e2e70798442a",
   "metadata": {},
   "source": [
    "### Import Libraries"
   ]
  },
  {
   "cell_type": "code",
   "execution_count": 39,
   "id": "abc7a5ae",
   "metadata": {},
   "outputs": [],
   "source": [
    "import numpy as np\n",
    "import pandas as pd\n",
    "\n",
    "import spotipy\n",
    "from spotipy.oauth2 import SpotifyClientCredentials\n",
    "\n",
    "from tqdm import tqdm  \n",
    "import time\n",
    "\n",
    "import seaborn as sns\n",
    "import matplotlib.pyplot as plt\n",
    "\n",
    "from sklearn.cluster import AgglomerativeClustering\n",
    "from sklearn.cluster import KMeans\n",
    "from sklearn.decomposition import PCA\n",
    "\n",
    "from sklearn.preprocessing import StandardScaler\n",
    "\n",
    "from scipy.cluster.hierarchy import linkage, dendrogram\n",
    "from scipy.spatial.distance import pdist, squareform"
   ]
  },
  {
   "cell_type": "markdown",
   "id": "0553cac9-f1fd-4f42-9dab-51fadde747dd",
   "metadata": {},
   "source": [
    "# DATA COLLECTION"
   ]
  },
  {
   "cell_type": "code",
   "execution_count": 4,
   "id": "9e0e2855-b3e7-42b1-bd51-2d76ee93a502",
   "metadata": {},
   "outputs": [],
   "source": [
    "# Set up API credentials\n",
    "client_id = \"3ff1e45f1c8d4189b317e02b3dc349b6\" # Replace with your actual Client ID\n",
    "client_secret = \"878f0386a88f4c08b54199f30770c950\"  # Replace with your actual Client Secret\n",
    "\n",
    "sp = spotipy.Spotify(auth_manager=SpotifyClientCredentials(client_id=client_id, client_secret=client_secret))"
   ]
  },
  {
   "cell_type": "markdown",
   "id": "aa5fcd25-e447-4238-b6a0-966bf5b78a1c",
   "metadata": {},
   "source": [
    "### Spotify API"
   ]
  },
  {
   "cell_type": "markdown",
   "id": "f07d2960-7a82-47a5-a0f6-92f23144eb61",
   "metadata": {},
   "source": [
    "### Get Tracks"
   ]
  },
  {
   "cell_type": "code",
   "execution_count": 5,
   "id": "b2fe7bac-cc83-40b6-ad4f-d9d5dfc4b3ab",
   "metadata": {},
   "outputs": [],
   "source": [
    "def top_tracks_by_year(start, end, n):\n",
    "    results_by_year = {}\n",
    "\n",
    "    for year in range(start, end+1):\n",
    "        tracks = []\n",
    "        ofs = 0\n",
    "\n",
    "        while len(tracks) < n:\n",
    "            rem_n = n - len(tracks)\n",
    "            track_info = sp.search(q=f'year:{year}', type='track', market='US', limit=rem_n, offset=ofs)\n",
    "            items = track_info['tracks']['items']\n",
    "\n",
    "            for t in items:\n",
    "                artists = t['artists'][0]['name']\n",
    "                popularity = t['popularity']\n",
    "                track_id = t['id'] \n",
    "                \n",
    "                tracks.append({\n",
    "                    'artists': artists,\n",
    "                    'popularity': popularity,\n",
    "                    'id': track_id\n",
    "                })\n",
    "\n",
    "            ofs += rem_n\n",
    "\n",
    "        results_by_year[year] = tracks\n",
    "\n",
    "    return results_by_year\n",
    "\n",
    "# Change year and top n tracks here\n",
    "top_tracks = top_tracks_by_year(1950, 2024, 50)"
   ]
  },
  {
   "cell_type": "markdown",
   "id": "3cb55916-d3c8-48a7-9dc8-220fb3a3a8a2",
   "metadata": {},
   "source": [
    "### Convert to DF"
   ]
  },
  {
   "cell_type": "code",
   "execution_count": 6,
   "id": "2cd28020-4441-4979-9bb2-48c632483521",
   "metadata": {},
   "outputs": [],
   "source": [
    "data = []\n",
    "\n",
    "# Append tracks and their features to data\n",
    "for year in top_tracks:\n",
    "    tracks = top_tracks[year]\n",
    "\n",
    "    for track in tracks:\n",
    "        data.append({\n",
    "            'Year': year,\n",
    "            'Artist': track['artists'],\n",
    "            'Popularity': track['popularity'],\n",
    "            'Track ID': track['id'], # Use for removing identical entries\n",
    "        })\n",
    "\n",
    "# Create the DataFrame\n",
    "df = pd.DataFrame(data)"
   ]
  },
  {
   "cell_type": "markdown",
   "id": "1922e2d4",
   "metadata": {},
   "source": [
    "### Create Genres"
   ]
  },
  {
   "cell_type": "code",
   "execution_count": 7,
   "id": "6dce3480",
   "metadata": {},
   "outputs": [
    {
     "name": "stderr",
     "output_type": "stream",
     "text": [
      "100%|██████████| 3750/3750 [10:51<00:00,  5.76it/s]\n"
     ]
    }
   ],
   "source": [
    "# Create a list to store genres\n",
    "genres_list = []\n",
    "\n",
    "# Loop through the DataFrame to get genres from artist info\n",
    "for idx, row in tqdm(df.iterrows(), total=len(df)):\n",
    "    try:\n",
    "        artist_name = row['Artist']\n",
    "        search_artist = sp.search(q=f\"artist:{artist_name}\", type='artist')\n",
    "        artist_items = search_artist['artists']['items']\n",
    "        \n",
    "        if artist_items:\n",
    "            artist_info = artist_items[0]\n",
    "            genres = artist_info['genres']\n",
    "            genres_list.append(genres[0] if genres else None)  # Pick the first genre if exists\n",
    "        else:\n",
    "            genres_list.append(None)\n",
    "            \n",
    "    except Exception as e:\n",
    "        genres_list.append(None)\n",
    "\n",
    "    time.sleep(0.05)  # Prevent hitting rate limit\n",
    "\n",
    "# Add genre column to your DataFrame\n",
    "df['Genre'] = genres_list"
   ]
  },
  {
   "cell_type": "markdown",
   "id": "916ae998-7b05-43b4-98c0-71257947b02f",
   "metadata": {},
   "source": [
    "### DF to CSV Conversion"
   ]
  },
  {
   "cell_type": "code",
   "execution_count": 8,
   "id": "4a69ef26-eafc-4d19-bccf-c93efd334241",
   "metadata": {},
   "outputs": [],
   "source": [
    "# Create csv file, move this down after adding genre to df\n",
    "df.to_csv('spotify_top_tracks_with_genres.csv', index=False)"
   ]
  },
  {
   "cell_type": "markdown",
   "id": "c9cf666e-5dd1-4572-9dc1-c9976a39666d",
   "metadata": {},
   "source": [
    "# DATA CLEANING AND PREPROCESSING"
   ]
  },
  {
   "cell_type": "markdown",
   "id": "c285b87e-16bf-4200-94ca-6f53669baac9",
   "metadata": {},
   "source": [
    "### Read CSV"
   ]
  },
  {
   "cell_type": "code",
   "execution_count": 124,
   "id": "223e230f-e5f5-491f-8fb1-887944b7af7e",
   "metadata": {},
   "outputs": [],
   "source": [
    "# After completing Data Collection \n",
    "# Start here when updating DF\n",
    "def read_data(file_name):\n",
    "    df = pd.read_csv(file_name)\n",
    "    return df\n",
    "\n",
    "# Use this so we don't have to constantly fetch genre\n",
    "data = read_data('spotify_top_tracks_with_genres.csv')"
   ]
  },
  {
   "cell_type": "markdown",
   "id": "767060f1-6953-43c2-857a-d42e183febc7",
   "metadata": {},
   "source": [
    "### DF Cleaning"
   ]
  },
  {
   "cell_type": "code",
   "execution_count": 125,
   "id": "2ebc6b31-f823-4a32-ba87-1781495e669c",
   "metadata": {},
   "outputs": [],
   "source": [
    "# Remove any row that contains null value \n",
    "cleaned_df = data.dropna().reset_index(drop=True)\n",
    "\n",
    "# Remove any duplicate song\n",
    "# Then remove Track ID and Artist column, since there's no further use for it\n",
    "cleaned_df = cleaned_df.drop_duplicates(subset='Track ID')\n",
    "cleaned_df = cleaned_df.drop(['Track ID', 'Artist'], axis=1)"
   ]
  },
  {
   "cell_type": "code",
   "execution_count": 126,
   "id": "be473923-ca2a-45b6-9f73-dcec722bf799",
   "metadata": {},
   "outputs": [
    {
     "data": {
      "text/html": [
       "<div>\n",
       "<style scoped>\n",
       "    .dataframe tbody tr th:only-of-type {\n",
       "        vertical-align: middle;\n",
       "    }\n",
       "\n",
       "    .dataframe tbody tr th {\n",
       "        vertical-align: top;\n",
       "    }\n",
       "\n",
       "    .dataframe thead th {\n",
       "        text-align: right;\n",
       "    }\n",
       "</style>\n",
       "<table border=\"1\" class=\"dataframe\">\n",
       "  <thead>\n",
       "    <tr style=\"text-align: right;\">\n",
       "      <th></th>\n",
       "      <th>Year</th>\n",
       "      <th>Popularity</th>\n",
       "      <th>Genre</th>\n",
       "    </tr>\n",
       "  </thead>\n",
       "  <tbody>\n",
       "    <tr>\n",
       "      <th>0</th>\n",
       "      <td>1950</td>\n",
       "      <td>59</td>\n",
       "      <td>vocal jazz</td>\n",
       "    </tr>\n",
       "    <tr>\n",
       "      <th>1</th>\n",
       "      <td>1950</td>\n",
       "      <td>55</td>\n",
       "      <td>vocal jazz</td>\n",
       "    </tr>\n",
       "    <tr>\n",
       "      <th>2</th>\n",
       "      <td>1950</td>\n",
       "      <td>47</td>\n",
       "      <td>doo-wop</td>\n",
       "    </tr>\n",
       "    <tr>\n",
       "      <th>3</th>\n",
       "      <td>1950</td>\n",
       "      <td>45</td>\n",
       "      <td>honky tonk</td>\n",
       "    </tr>\n",
       "    <tr>\n",
       "      <th>4</th>\n",
       "      <td>1950</td>\n",
       "      <td>46</td>\n",
       "      <td>mambo</td>\n",
       "    </tr>\n",
       "    <tr>\n",
       "      <th>...</th>\n",
       "      <td>...</td>\n",
       "      <td>...</td>\n",
       "      <td>...</td>\n",
       "    </tr>\n",
       "    <tr>\n",
       "      <th>2824</th>\n",
       "      <td>2024</td>\n",
       "      <td>83</td>\n",
       "      <td>country</td>\n",
       "    </tr>\n",
       "    <tr>\n",
       "      <th>2825</th>\n",
       "      <td>2024</td>\n",
       "      <td>88</td>\n",
       "      <td>egyptian pop</td>\n",
       "    </tr>\n",
       "    <tr>\n",
       "      <th>2826</th>\n",
       "      <td>2024</td>\n",
       "      <td>83</td>\n",
       "      <td>country</td>\n",
       "    </tr>\n",
       "    <tr>\n",
       "      <th>2827</th>\n",
       "      <td>2024</td>\n",
       "      <td>81</td>\n",
       "      <td>country</td>\n",
       "    </tr>\n",
       "    <tr>\n",
       "      <th>2828</th>\n",
       "      <td>2024</td>\n",
       "      <td>87</td>\n",
       "      <td>alternative r&amp;b</td>\n",
       "    </tr>\n",
       "  </tbody>\n",
       "</table>\n",
       "<p>2829 rows × 3 columns</p>\n",
       "</div>"
      ],
      "text/plain": [
       "      Year  Popularity            Genre\n",
       "0     1950          59       vocal jazz\n",
       "1     1950          55       vocal jazz\n",
       "2     1950          47          doo-wop\n",
       "3     1950          45       honky tonk\n",
       "4     1950          46            mambo\n",
       "...    ...         ...              ...\n",
       "2824  2024          83          country\n",
       "2825  2024          88     egyptian pop\n",
       "2826  2024          83          country\n",
       "2827  2024          81          country\n",
       "2828  2024          87  alternative r&b\n",
       "\n",
       "[2829 rows x 3 columns]"
      ]
     },
     "execution_count": 126,
     "metadata": {},
     "output_type": "execute_result"
    }
   ],
   "source": [
    "cleaned_df"
   ]
  },
  {
   "cell_type": "code",
   "execution_count": 127,
   "id": "c4c7584a-7f1d-465f-8159-509b32e3630d",
   "metadata": {},
   "outputs": [
    {
     "data": {
      "text/plain": [
       "array(['vocal jazz', 'doo-wop', 'honky tonk', 'mambo', 'jazz', 'bolero',\n",
       "       'orchestra', 'cool jazz', 'soul', 'bluegrass', 'opm', 'mariachi',\n",
       "       'hard bop', 'neoclassical', 'christmas', 'french jazz',\n",
       "       'swing music', 'classical piano', 'adult standards',\n",
       "       'boogie-woogie', 'exotica', 'bebop', 'opera', 'musicals',\n",
       "       'big band', 'easy listening', 'folk', 'traditional country',\n",
       "       'comedy', 'brazilian jazz', 'schlager', 'canzone napoletana',\n",
       "       'ranchera', 'blues', 'christian country', 'rockabilly', 'calypso',\n",
       "       'country', 'jazz blues', 'moroccan chaabi', 'classical',\n",
       "       'bossa nova', 'new york drill', 'motown', 'rock and roll',\n",
       "       'surf rock', 'nu disco', 'salsa', 'folk rock', 'chanson',\n",
       "       'latin jazz', 'soul jazz', 'baroque pop', 'classic rock',\n",
       "       'northern soul', 'progressive rock', 'proto-punk', 'mpb',\n",
       "       'philly soul', 'cha cha cha', 'psychedelic rock', 'kizomba',\n",
       "       'disco', 'acid rock', 'glam rock', 'southern rock', 'metal',\n",
       "       'blues rock', 'corrido', 'reggae', 'soft rock',\n",
       "       'singer-songwriter', 'grupera', 'hard rock', 'power pop',\n",
       "       'symphonic rock', 'v-pop', 'dangdut', 'country rock', 'art rock',\n",
       "       'quiet storm', 'egyptian pop', 'rock', 'post-hardcore', 'punk',\n",
       "       'jazz funk', \"children's music\", 'album rock', 'duranguense',\n",
       "       'new wave', 'glam metal', 'post-punk', 'art pop', 'heavy metal',\n",
       "       'gospel', 'synthpop', 'funk', 'post-disco', 'folk punk', 'hi-nrg',\n",
       "       'neue deutsche welle', 'funk rock', 'arena rock', 'norteño',\n",
       "       'new jack swing', 'rock en español', 'italo disco', 'rap rock',\n",
       "       'grime', 'east coast hip hop', 'thrash metal',\n",
       "       'japanese classical', 'jangle pop', 'shoegaze', 'alt country',\n",
       "       'gothic country', 'worship', 'alternative rock', 'hip house',\n",
       "       'grunge', 'midwest emo', 'eurodance', 'industrial rock',\n",
       "       'groove metal', 'britpop', 'dream pop', 'jazz rap',\n",
       "       'west coast hip hop', 'merengue', 'reggae rock', 'city pop',\n",
       "       'gangster rap', 'southern hip hop', 'rap metal',\n",
       "       'industrial metal', 'pop', 'r&b', 'g-funk', 'progressive metal',\n",
       "       'dancehall', 'reggaeton', 'post-grunge', 'trip hop', 'tejano',\n",
       "       'nu metal', 'latin pop', 'slowcore', 'noise rock', 'banda',\n",
       "       'variété française', 'pop punk', 'neo soul', 'french house',\n",
       "       'experimental hip hop', 'electroclash', 'rap', 'cumbia',\n",
       "       'alternative metal', 'emo', 'soft pop', 'dance pop',\n",
       "       'latin alternative', 'garage rock', 'christian', 'pop rock',\n",
       "       'indie', 'crunk', 'bachata', 'stoner rock', 'hip hop',\n",
       "       'indie rock', 'gothic metal', 'horrorcore', 'modern rock',\n",
       "       'christian rock', 'red dirt', 'indie folk', 'edm', 'folk pop',\n",
       "       'drill', 'house', 'spoken word', 'alternative r&b', 'emo rap',\n",
       "       'dark trap', 'chamber pop', 'melodic rap', 'future bass',\n",
       "       'rage rap', 'bedroom pop', 'hyperpop', 'moombahton',\n",
       "       'brooklyn drill', 'country hip hop', 'texas country',\n",
       "       'dark ambient', 'cumbia norteña'], dtype=object)"
      ]
     },
     "execution_count": 127,
     "metadata": {},
     "output_type": "execute_result"
    }
   ],
   "source": [
    "# Identify unique subgenres\n",
    "cleaned_df['Genre'].unique()"
   ]
  },
  {
   "cell_type": "markdown",
   "id": "ea65910b-f2e7-4ce9-9e8d-d4db6e14e081",
   "metadata": {},
   "source": [
    "### Map Subgenre to Broad Genre"
   ]
  },
  {
   "cell_type": "code",
   "execution_count": 128,
   "id": "1e68af89-c88e-4bda-9f37-deb17f94a4a3",
   "metadata": {},
   "outputs": [],
   "source": [
    "# Genre mapping dictionary\n",
    "# Ultra-general genre mapping\n",
    "genre_map = {\n",
    "    'Jazz & Blues': [\n",
    "        'vocal jazz', 'cool jazz', 'bebop', 'jazz blues', 'soul jazz', 'jazz',\n",
    "        'blues', 'swing music', 'hard bop', 'big band', 'jazz funk', 'latin jazz',\n",
    "        'brazilian jazz', 'exotica', 'boogie-woogie', 'free jazz'\n",
    "    ],\n",
    "    'Classical': [\n",
    "        'classical', 'classical piano', 'japanese classical', 'orchestra',\n",
    "        'opera', 'musicals', 'symphonic rock', 'neoclassical', 'baroque pop'\n",
    "    ],\n",
    "    'Rock & Alternative': [\n",
    "        'rock', 'classic rock', 'hard rock', 'progressive rock', 'psychedelic rock',\n",
    "        'album rock', 'southern rock', 'soft rock', 'alternative rock', 'glam rock',\n",
    "        'punk', 'grunge', 'metal', 'glam metal', 'industrial rock', 'industrial metal',\n",
    "        'garage rock', 'noise rock', 'stoner rock', 'post-punk', 'post-hardcore',\n",
    "        'thrash metal', 'progressive metal', 'folk punk', 'shoegaze', 'britpop',\n",
    "        'dream pop', 'jangle pop', 'post-grunge'\n",
    "    ],\n",
    "    'Pop & Electronic': [\n",
    "        'pop', 'soft pop', 'synthpop', 'power pop', 'art pop', 'dance pop',\n",
    "        'hyperpop', 'chamber pop', 'bedroom pop', 'variété française', 'city pop',\n",
    "        'edm', 'eurodance', 'hi-nrg', 'french house', 'house', 'techno',\n",
    "        'nu disco', 'moombahton', 'future bass', 'dancehall', 'electronica',\n",
    "        'italo disco'\n",
    "    ],\n",
    "    'Hip Hop & R&B': [\n",
    "        'hip hop', 'rap', 'jazz rap', 'melodic rap', 'emo rap', 'rage rap',\n",
    "        'drill', 'new york drill', 'dark trap', 'crunk', 'g-funk', 'trap',\n",
    "        'gangster rap', 'horrorcore', 'experimental hip hop', 'hip house',\n",
    "        'r&b', 'soul', 'neo soul', 'motown', 'quiet storm', 'funk', 'funk rock',\n",
    "        'new jack swing', 'disco', 'gospel', 'philly soul', 'alternative r&b'\n",
    "    ],\n",
    "    'Country, Folk & World': [\n",
    "        'country', 'alt country', 'traditional country', 'folk', 'folk pop',\n",
    "        'folk rock', 'honky tonk', 'bluegrass', 'americana', 'red dirt',\n",
    "        'country rock', 'ranchera', 'norteño', 'banda', 'corrido', 'reggaeton',\n",
    "        'salsa', 'tejano', 'latin pop', 'mambo', 'bolero', 'mariachi', 'grupera',\n",
    "        'calypso', 'kizomba', 'merengue', 'bachata', 'cumbia', 'mpb', 'latin alternative'\n",
    "    ],\n",
    "}\n",
    "\n",
    "# Flatten and apply\n",
    "flat_genre_map = {sub: broad for broad, subs in genre_map.items() for sub in subs}\n",
    "cleaned_df['Broad Genre'] = cleaned_df['Genre'].map(flat_genre_map).fillna('Other / Misc')"
   ]
  },
  {
   "cell_type": "markdown",
   "id": "5e771f9b-59ac-4352-9fb7-621f490af841",
   "metadata": {},
   "source": [
    "### Count of Each Broad Genre by Half-Decade \n",
    "### Remove 'Genre' Column"
   ]
  },
  {
   "cell_type": "code",
   "execution_count": 129,
   "id": "4b536f62-c573-475a-a1d2-8525f0ce7742",
   "metadata": {},
   "outputs": [],
   "source": [
    "# Half Decade\n",
    "cleaned_df['Semi-Decade'] = (cleaned_df['Year'] // 5) * 5\n",
    "\n",
    "# Groupby Year and Broad Genre \n",
    "genre_counts_year = cleaned_df.groupby(['Year', 'Broad Genre']).size().unstack(fill_value=0)\n",
    "\n",
    "# Groupby Semi-Decade and Broad Genre\n",
    "genre_counts_sd = cleaned_df.groupby(['Semi-Decade', 'Broad Genre']).size().unstack(fill_value=0)"
   ]
  },
  {
   "cell_type": "markdown",
   "id": "eb6dea89-f1d0-48c9-acc9-0ad509be01ec",
   "metadata": {},
   "source": [
    "### Standardizing Dataset"
   ]
  },
  {
   "cell_type": "code",
   "execution_count": 130,
   "id": "9b259714-ec73-40c5-b9d8-1086823cbba2",
   "metadata": {},
   "outputs": [],
   "source": [
    "# Standardize the data\n",
    "scaler = StandardScaler()\n",
    "scaled = scaler.fit_transform(genre_counts_sd)\n",
    "genre_counts_sd_scaled = pd.DataFrame(scaled, columns=genre_counts_sd.columns, index=genre_counts_sd.index)"
   ]
  },
  {
   "cell_type": "markdown",
   "id": "14e1abd3-aca0-4e88-aeb0-056dd1ee6d00",
   "metadata": {},
   "source": [
    "# KMeans Clustering"
   ]
  },
  {
   "cell_type": "code",
   "execution_count": 131,
   "id": "70a24eb8-a7ef-468f-aa6d-43be19793cfa",
   "metadata": {},
   "outputs": [
    {
     "data": {
      "text/plain": [
       "Text(0, 0.5, 'WCSS')"
      ]
     },
     "execution_count": 131,
     "metadata": {},
     "output_type": "execute_result"
    },
    {
     "data": {
      "image/png": "[encoded data removed]",
      "text/plain": [
       "<Figure size 640x480 with 1 Axes>"
      ]
     },
     "metadata": {},
     "output_type": "display_data"
    }
   ],
   "source": [
    "# Using Elbow to determine number of clusters we should for KMeans Clustering\n",
    "wcss = []\n",
    "    \n",
    "for i in range(1,8):\n",
    "    kmeans = KMeans(i)\n",
    "    kmeans.fit(genre_counts_sd_scaled)\n",
    "    wcss_iter = kmeans.inertia_\n",
    "    wcss.append(wcss_iter)\n",
    "\n",
    "number_clusters = range(1,8)\n",
    "plt.plot(number_clusters, wcss)\n",
    "plt.title('Elbow Method')\n",
    "plt.xlabel('Number of Clusters')\n",
    "plt.ylabel('WCSS')"
   ]
  },
  {
   "cell_type": "markdown",
   "id": "7c76a505-dc26-4a25-aae1-50b0a0593db5",
   "metadata": {},
   "source": [
    "##### Based on the graph above the optimal number of clusters we should use for KMeans Clustering is 4."
   ]
  },
  {
   "cell_type": "code",
   "execution_count": 132,
   "id": "e39894c2-7dae-40a4-b52d-7605ed8e5bbc",
   "metadata": {},
   "outputs": [
    {
     "data": {
      "text/html": [
       "<div>\n",
       "<style scoped>\n",
       "    .dataframe tbody tr th:only-of-type {\n",
       "        vertical-align: middle;\n",
       "    }\n",
       "\n",
       "    .dataframe tbody tr th {\n",
       "        vertical-align: top;\n",
       "    }\n",
       "\n",
       "    .dataframe thead th {\n",
       "        text-align: right;\n",
       "    }\n",
       "</style>\n",
       "<table border=\"1\" class=\"dataframe\">\n",
       "  <thead>\n",
       "    <tr style=\"text-align: right;\">\n",
       "      <th>Broad Genre</th>\n",
       "      <th>Classical</th>\n",
       "      <th>Country, Folk &amp; World</th>\n",
       "      <th>Hip Hop &amp; R&amp;B</th>\n",
       "      <th>Jazz &amp; Blues</th>\n",
       "      <th>Other / Misc</th>\n",
       "      <th>Pop &amp; Electronic</th>\n",
       "      <th>Rock &amp; Alternative</th>\n",
       "      <th>KMeans_Cluster</th>\n",
       "    </tr>\n",
       "    <tr>\n",
       "      <th>Semi-Decade</th>\n",
       "      <th></th>\n",
       "      <th></th>\n",
       "      <th></th>\n",
       "      <th></th>\n",
       "      <th></th>\n",
       "      <th></th>\n",
       "      <th></th>\n",
       "      <th></th>\n",
       "    </tr>\n",
       "  </thead>\n",
       "  <tbody>\n",
       "    <tr>\n",
       "      <th>1950</th>\n",
       "      <td>2.320208</td>\n",
       "      <td>2.505118</td>\n",
       "      <td>-1.742088</td>\n",
       "      <td>2.214225</td>\n",
       "      <td>0.367682</td>\n",
       "      <td>-1.013823</td>\n",
       "      <td>-1.097458</td>\n",
       "      <td>0</td>\n",
       "    </tr>\n",
       "    <tr>\n",
       "      <th>1955</th>\n",
       "      <td>-0.249150</td>\n",
       "      <td>-0.799913</td>\n",
       "      <td>-1.677725</td>\n",
       "      <td>2.602162</td>\n",
       "      <td>1.976291</td>\n",
       "      <td>-1.013823</td>\n",
       "      <td>-1.097458</td>\n",
       "      <td>0</td>\n",
       "    </tr>\n",
       "    <tr>\n",
       "      <th>1960</th>\n",
       "      <td>0.685162</td>\n",
       "      <td>-0.153277</td>\n",
       "      <td>0.188798</td>\n",
       "      <td>0.811684</td>\n",
       "      <td>1.708190</td>\n",
       "      <td>-0.887095</td>\n",
       "      <td>-0.769096</td>\n",
       "      <td>0</td>\n",
       "    </tr>\n",
       "    <tr>\n",
       "      <th>1965</th>\n",
       "      <td>1.619474</td>\n",
       "      <td>0.062269</td>\n",
       "      <td>0.961152</td>\n",
       "      <td>-0.352127</td>\n",
       "      <td>-0.781324</td>\n",
       "      <td>-1.013823</td>\n",
       "      <td>0.850822</td>\n",
       "      <td>1</td>\n",
       "    </tr>\n",
       "    <tr>\n",
       "      <th>1970</th>\n",
       "      <td>-0.716306</td>\n",
       "      <td>0.565208</td>\n",
       "      <td>-0.390468</td>\n",
       "      <td>-0.411810</td>\n",
       "      <td>-1.126026</td>\n",
       "      <td>-0.760367</td>\n",
       "      <td>1.398092</td>\n",
       "      <td>2</td>\n",
       "    </tr>\n",
       "    <tr>\n",
       "      <th>1975</th>\n",
       "      <td>1.385896</td>\n",
       "      <td>-1.159156</td>\n",
       "      <td>-0.197379</td>\n",
       "      <td>-0.411810</td>\n",
       "      <td>-0.743024</td>\n",
       "      <td>-0.380184</td>\n",
       "      <td>1.770235</td>\n",
       "      <td>1</td>\n",
       "    </tr>\n",
       "    <tr>\n",
       "      <th>1980</th>\n",
       "      <td>-0.249150</td>\n",
       "      <td>-0.799913</td>\n",
       "      <td>-0.583557</td>\n",
       "      <td>-0.471493</td>\n",
       "      <td>-0.130221</td>\n",
       "      <td>0.506912</td>\n",
       "      <td>1.091621</td>\n",
       "      <td>2</td>\n",
       "    </tr>\n",
       "    <tr>\n",
       "      <th>1985</th>\n",
       "      <td>-0.015572</td>\n",
       "      <td>-0.081428</td>\n",
       "      <td>-0.905371</td>\n",
       "      <td>-0.471493</td>\n",
       "      <td>0.214481</td>\n",
       "      <td>-0.126728</td>\n",
       "      <td>0.741368</td>\n",
       "      <td>2</td>\n",
       "    </tr>\n",
       "    <tr>\n",
       "      <th>1990</th>\n",
       "      <td>-0.949884</td>\n",
       "      <td>0.780754</td>\n",
       "      <td>-0.261742</td>\n",
       "      <td>-0.501334</td>\n",
       "      <td>-0.589823</td>\n",
       "      <td>-0.126728</td>\n",
       "      <td>0.960276</td>\n",
       "      <td>2</td>\n",
       "    </tr>\n",
       "    <tr>\n",
       "      <th>1995</th>\n",
       "      <td>-0.949884</td>\n",
       "      <td>0.205966</td>\n",
       "      <td>0.381886</td>\n",
       "      <td>-0.501334</td>\n",
       "      <td>0.214481</td>\n",
       "      <td>-0.506912</td>\n",
       "      <td>-0.112373</td>\n",
       "      <td>2</td>\n",
       "    </tr>\n",
       "    <tr>\n",
       "      <th>2000</th>\n",
       "      <td>-0.482728</td>\n",
       "      <td>-1.087307</td>\n",
       "      <td>0.574975</td>\n",
       "      <td>-0.501334</td>\n",
       "      <td>1.401788</td>\n",
       "      <td>0.380184</td>\n",
       "      <td>-0.068591</td>\n",
       "      <td>2</td>\n",
       "    </tr>\n",
       "    <tr>\n",
       "      <th>2005</th>\n",
       "      <td>-0.249150</td>\n",
       "      <td>-0.656216</td>\n",
       "      <td>0.060072</td>\n",
       "      <td>-0.501334</td>\n",
       "      <td>0.444283</td>\n",
       "      <td>1.140551</td>\n",
       "      <td>-0.593970</td>\n",
       "      <td>2</td>\n",
       "    </tr>\n",
       "    <tr>\n",
       "      <th>2010</th>\n",
       "      <td>-0.249150</td>\n",
       "      <td>-0.871762</td>\n",
       "      <td>1.218604</td>\n",
       "      <td>-0.501334</td>\n",
       "      <td>-0.819625</td>\n",
       "      <td>2.788013</td>\n",
       "      <td>-1.053677</td>\n",
       "      <td>3</td>\n",
       "    </tr>\n",
       "    <tr>\n",
       "      <th>2015</th>\n",
       "      <td>-0.949884</td>\n",
       "      <td>-0.153277</td>\n",
       "      <td>2.184047</td>\n",
       "      <td>-0.501334</td>\n",
       "      <td>-1.202627</td>\n",
       "      <td>0.760367</td>\n",
       "      <td>-0.966114</td>\n",
       "      <td>3</td>\n",
       "    </tr>\n",
       "    <tr>\n",
       "      <th>2020</th>\n",
       "      <td>-0.949884</td>\n",
       "      <td>1.642936</td>\n",
       "      <td>0.188798</td>\n",
       "      <td>-0.501334</td>\n",
       "      <td>-0.934525</td>\n",
       "      <td>0.253456</td>\n",
       "      <td>-1.053677</td>\n",
       "      <td>3</td>\n",
       "    </tr>\n",
       "  </tbody>\n",
       "</table>\n",
       "</div>"
      ],
      "text/plain": [
       "Broad Genre  Classical  Country, Folk & World  Hip Hop & R&B  Jazz & Blues  \\\n",
       "Semi-Decade                                                                  \n",
       "1950          2.320208               2.505118      -1.742088      2.214225   \n",
       "1955         -0.249150              -0.799913      -1.677725      2.602162   \n",
       "1960          0.685162              -0.153277       0.188798      0.811684   \n",
       "1965          1.619474               0.062269       0.961152     -0.352127   \n",
       "1970         -0.716306               0.565208      -0.390468     -0.411810   \n",
       "1975          1.385896              -1.159156      -0.197379     -0.411810   \n",
       "1980         -0.249150              -0.799913      -0.583557     -0.471493   \n",
       "1985         -0.015572              -0.081428      -0.905371     -0.471493   \n",
       "1990         -0.949884               0.780754      -0.261742     -0.501334   \n",
       "1995         -0.949884               0.205966       0.381886     -0.501334   \n",
       "2000         -0.482728              -1.087307       0.574975     -0.501334   \n",
       "2005         -0.249150              -0.656216       0.060072     -0.501334   \n",
       "2010         -0.249150              -0.871762       1.218604     -0.501334   \n",
       "2015         -0.949884              -0.153277       2.184047     -0.501334   \n",
       "2020         -0.949884               1.642936       0.188798     -0.501334   \n",
       "\n",
       "Broad Genre  Other / Misc  Pop & Electronic  Rock & Alternative  \\\n",
       "Semi-Decade                                                       \n",
       "1950             0.367682         -1.013823           -1.097458   \n",
       "1955             1.976291         -1.013823           -1.097458   \n",
       "1960             1.708190         -0.887095           -0.769096   \n",
       "1965            -0.781324         -1.013823            0.850822   \n",
       "1970            -1.126026         -0.760367            1.398092   \n",
       "1975            -0.743024         -0.380184            1.770235   \n",
       "1980            -0.130221          0.506912            1.091621   \n",
       "1985             0.214481         -0.126728            0.741368   \n",
       "1990            -0.589823         -0.126728            0.960276   \n",
       "1995             0.214481         -0.506912           -0.112373   \n",
       "2000             1.401788          0.380184           -0.068591   \n",
       "2005             0.444283          1.140551           -0.593970   \n",
       "2010            -0.819625          2.788013           -1.053677   \n",
       "2015            -1.202627          0.760367           -0.966114   \n",
       "2020            -0.934525          0.253456           -1.053677   \n",
       "\n",
       "Broad Genre  KMeans_Cluster  \n",
       "Semi-Decade                  \n",
       "1950                      0  \n",
       "1955                      0  \n",
       "1960                      0  \n",
       "1965                      1  \n",
       "1970                      2  \n",
       "1975                      1  \n",
       "1980                      2  \n",
       "1985                      2  \n",
       "1990                      2  \n",
       "1995                      2  \n",
       "2000                      2  \n",
       "2005                      2  \n",
       "2010                      3  \n",
       "2015                      3  \n",
       "2020                      3  "
      ]
     },
     "execution_count": 132,
     "metadata": {},
     "output_type": "execute_result"
    }
   ],
   "source": [
    "def kmeans_clustering(data):\n",
    "\n",
    "    kmeans = KMeans(4)\n",
    "    data['KMeans_Cluster'] = kmeans.fit_predict(data)\n",
    "\n",
    "    return data\n",
    "\n",
    "clustered_data = kmeans_clustering(genre_counts_sd_scaled)\n",
    "clustered_data"
   ]
  },
  {
   "cell_type": "markdown",
   "id": "a6f2c756-54ff-493a-b9c1-2ea636add3d4",
   "metadata": {},
   "source": [
    "# Hierarchical Clustering"
   ]
  },
  {
   "cell_type": "code",
   "execution_count": 133,
   "id": "75e40af0-f0ed-4bc0-b755-ee137f93d0d1",
   "metadata": {},
   "outputs": [
    {
     "data": {
      "image/png": "[encoded data removed]",
      "text/plain": [
       "<Figure size 1000x600 with 1 Axes>"
      ]
     },
     "metadata": {},
     "output_type": "display_data"
    }
   ],
   "source": [
    "# Dendrogram visualization \n",
    "# Average linkage method\n",
    "Z = linkage(genre_counts_sd_scaled, method='average')  \n",
    "\n",
    "# Plot\n",
    "plt.figure(figsize=(10, 6))\n",
    "dendrogram(Z)\n",
    "plt.title('Hierarchical Clustering Dendrogram')\n",
    "plt.xlabel('Semi-Decade')\n",
    "plt.ylabel('Distance')\n",
    "plt.tight_layout()\n",
    "plt.show()"
   ]
  },
  {
   "cell_type": "markdown",
   "id": "fdf26550-492d-4000-a0f3-fbfee8217265",
   "metadata": {},
   "source": [
    "##### Based on the graph above the optimal number of clusters we should use for Hierarchical Clustering is 4."
   ]
  },
  {
   "cell_type": "code",
   "execution_count": 134,
   "id": "6ab7cfbd-30a5-4047-b7f7-59a3ae5bad08",
   "metadata": {},
   "outputs": [
    {
     "data": {
      "text/html": [
       "<div>\n",
       "<style scoped>\n",
       "    .dataframe tbody tr th:only-of-type {\n",
       "        vertical-align: middle;\n",
       "    }\n",
       "\n",
       "    .dataframe tbody tr th {\n",
       "        vertical-align: top;\n",
       "    }\n",
       "\n",
       "    .dataframe thead th {\n",
       "        text-align: right;\n",
       "    }\n",
       "</style>\n",
       "<table border=\"1\" class=\"dataframe\">\n",
       "  <thead>\n",
       "    <tr style=\"text-align: right;\">\n",
       "      <th>Broad Genre</th>\n",
       "      <th>Classical</th>\n",
       "      <th>Country, Folk &amp; World</th>\n",
       "      <th>Hip Hop &amp; R&amp;B</th>\n",
       "      <th>Jazz &amp; Blues</th>\n",
       "      <th>Other / Misc</th>\n",
       "      <th>Pop &amp; Electronic</th>\n",
       "      <th>Rock &amp; Alternative</th>\n",
       "      <th>KMeans_Cluster</th>\n",
       "      <th>Hierarchical_Cluster</th>\n",
       "    </tr>\n",
       "    <tr>\n",
       "      <th>Semi-Decade</th>\n",
       "      <th></th>\n",
       "      <th></th>\n",
       "      <th></th>\n",
       "      <th></th>\n",
       "      <th></th>\n",
       "      <th></th>\n",
       "      <th></th>\n",
       "      <th></th>\n",
       "      <th></th>\n",
       "    </tr>\n",
       "  </thead>\n",
       "  <tbody>\n",
       "    <tr>\n",
       "      <th>1950</th>\n",
       "      <td>2.320208</td>\n",
       "      <td>2.505118</td>\n",
       "      <td>-1.742088</td>\n",
       "      <td>2.214225</td>\n",
       "      <td>0.367682</td>\n",
       "      <td>-1.013823</td>\n",
       "      <td>-1.097458</td>\n",
       "      <td>0</td>\n",
       "      <td>1</td>\n",
       "    </tr>\n",
       "    <tr>\n",
       "      <th>1955</th>\n",
       "      <td>-0.249150</td>\n",
       "      <td>-0.799913</td>\n",
       "      <td>-1.677725</td>\n",
       "      <td>2.602162</td>\n",
       "      <td>1.976291</td>\n",
       "      <td>-1.013823</td>\n",
       "      <td>-1.097458</td>\n",
       "      <td>0</td>\n",
       "      <td>1</td>\n",
       "    </tr>\n",
       "    <tr>\n",
       "      <th>1960</th>\n",
       "      <td>0.685162</td>\n",
       "      <td>-0.153277</td>\n",
       "      <td>0.188798</td>\n",
       "      <td>0.811684</td>\n",
       "      <td>1.708190</td>\n",
       "      <td>-0.887095</td>\n",
       "      <td>-0.769096</td>\n",
       "      <td>0</td>\n",
       "      <td>1</td>\n",
       "    </tr>\n",
       "    <tr>\n",
       "      <th>1965</th>\n",
       "      <td>1.619474</td>\n",
       "      <td>0.062269</td>\n",
       "      <td>0.961152</td>\n",
       "      <td>-0.352127</td>\n",
       "      <td>-0.781324</td>\n",
       "      <td>-1.013823</td>\n",
       "      <td>0.850822</td>\n",
       "      <td>1</td>\n",
       "      <td>0</td>\n",
       "    </tr>\n",
       "    <tr>\n",
       "      <th>1970</th>\n",
       "      <td>-0.716306</td>\n",
       "      <td>0.565208</td>\n",
       "      <td>-0.390468</td>\n",
       "      <td>-0.411810</td>\n",
       "      <td>-1.126026</td>\n",
       "      <td>-0.760367</td>\n",
       "      <td>1.398092</td>\n",
       "      <td>2</td>\n",
       "      <td>0</td>\n",
       "    </tr>\n",
       "    <tr>\n",
       "      <th>1975</th>\n",
       "      <td>1.385896</td>\n",
       "      <td>-1.159156</td>\n",
       "      <td>-0.197379</td>\n",
       "      <td>-0.411810</td>\n",
       "      <td>-0.743024</td>\n",
       "      <td>-0.380184</td>\n",
       "      <td>1.770235</td>\n",
       "      <td>1</td>\n",
       "      <td>0</td>\n",
       "    </tr>\n",
       "    <tr>\n",
       "      <th>1980</th>\n",
       "      <td>-0.249150</td>\n",
       "      <td>-0.799913</td>\n",
       "      <td>-0.583557</td>\n",
       "      <td>-0.471493</td>\n",
       "      <td>-0.130221</td>\n",
       "      <td>0.506912</td>\n",
       "      <td>1.091621</td>\n",
       "      <td>2</td>\n",
       "      <td>0</td>\n",
       "    </tr>\n",
       "    <tr>\n",
       "      <th>1985</th>\n",
       "      <td>-0.015572</td>\n",
       "      <td>-0.081428</td>\n",
       "      <td>-0.905371</td>\n",
       "      <td>-0.471493</td>\n",
       "      <td>0.214481</td>\n",
       "      <td>-0.126728</td>\n",
       "      <td>0.741368</td>\n",
       "      <td>2</td>\n",
       "      <td>0</td>\n",
       "    </tr>\n",
       "    <tr>\n",
       "      <th>1990</th>\n",
       "      <td>-0.949884</td>\n",
       "      <td>0.780754</td>\n",
       "      <td>-0.261742</td>\n",
       "      <td>-0.501334</td>\n",
       "      <td>-0.589823</td>\n",
       "      <td>-0.126728</td>\n",
       "      <td>0.960276</td>\n",
       "      <td>2</td>\n",
       "      <td>0</td>\n",
       "    </tr>\n",
       "    <tr>\n",
       "      <th>1995</th>\n",
       "      <td>-0.949884</td>\n",
       "      <td>0.205966</td>\n",
       "      <td>0.381886</td>\n",
       "      <td>-0.501334</td>\n",
       "      <td>0.214481</td>\n",
       "      <td>-0.506912</td>\n",
       "      <td>-0.112373</td>\n",
       "      <td>2</td>\n",
       "      <td>0</td>\n",
       "    </tr>\n",
       "    <tr>\n",
       "      <th>2000</th>\n",
       "      <td>-0.482728</td>\n",
       "      <td>-1.087307</td>\n",
       "      <td>0.574975</td>\n",
       "      <td>-0.501334</td>\n",
       "      <td>1.401788</td>\n",
       "      <td>0.380184</td>\n",
       "      <td>-0.068591</td>\n",
       "      <td>2</td>\n",
       "      <td>0</td>\n",
       "    </tr>\n",
       "    <tr>\n",
       "      <th>2005</th>\n",
       "      <td>-0.249150</td>\n",
       "      <td>-0.656216</td>\n",
       "      <td>0.060072</td>\n",
       "      <td>-0.501334</td>\n",
       "      <td>0.444283</td>\n",
       "      <td>1.140551</td>\n",
       "      <td>-0.593970</td>\n",
       "      <td>2</td>\n",
       "      <td>0</td>\n",
       "    </tr>\n",
       "    <tr>\n",
       "      <th>2010</th>\n",
       "      <td>-0.249150</td>\n",
       "      <td>-0.871762</td>\n",
       "      <td>1.218604</td>\n",
       "      <td>-0.501334</td>\n",
       "      <td>-0.819625</td>\n",
       "      <td>2.788013</td>\n",
       "      <td>-1.053677</td>\n",
       "      <td>3</td>\n",
       "      <td>2</td>\n",
       "    </tr>\n",
       "    <tr>\n",
       "      <th>2015</th>\n",
       "      <td>-0.949884</td>\n",
       "      <td>-0.153277</td>\n",
       "      <td>2.184047</td>\n",
       "      <td>-0.501334</td>\n",
       "      <td>-1.202627</td>\n",
       "      <td>0.760367</td>\n",
       "      <td>-0.966114</td>\n",
       "      <td>3</td>\n",
       "      <td>2</td>\n",
       "    </tr>\n",
       "    <tr>\n",
       "      <th>2020</th>\n",
       "      <td>-0.949884</td>\n",
       "      <td>1.642936</td>\n",
       "      <td>0.188798</td>\n",
       "      <td>-0.501334</td>\n",
       "      <td>-0.934525</td>\n",
       "      <td>0.253456</td>\n",
       "      <td>-1.053677</td>\n",
       "      <td>3</td>\n",
       "      <td>2</td>\n",
       "    </tr>\n",
       "  </tbody>\n",
       "</table>\n",
       "</div>"
      ],
      "text/plain": [
       "Broad Genre  Classical  Country, Folk & World  Hip Hop & R&B  Jazz & Blues  \\\n",
       "Semi-Decade                                                                  \n",
       "1950          2.320208               2.505118      -1.742088      2.214225   \n",
       "1955         -0.249150              -0.799913      -1.677725      2.602162   \n",
       "1960          0.685162              -0.153277       0.188798      0.811684   \n",
       "1965          1.619474               0.062269       0.961152     -0.352127   \n",
       "1970         -0.716306               0.565208      -0.390468     -0.411810   \n",
       "1975          1.385896              -1.159156      -0.197379     -0.411810   \n",
       "1980         -0.249150              -0.799913      -0.583557     -0.471493   \n",
       "1985         -0.015572              -0.081428      -0.905371     -0.471493   \n",
       "1990         -0.949884               0.780754      -0.261742     -0.501334   \n",
       "1995         -0.949884               0.205966       0.381886     -0.501334   \n",
       "2000         -0.482728              -1.087307       0.574975     -0.501334   \n",
       "2005         -0.249150              -0.656216       0.060072     -0.501334   \n",
       "2010         -0.249150              -0.871762       1.218604     -0.501334   \n",
       "2015         -0.949884              -0.153277       2.184047     -0.501334   \n",
       "2020         -0.949884               1.642936       0.188798     -0.501334   \n",
       "\n",
       "Broad Genre  Other / Misc  Pop & Electronic  Rock & Alternative  \\\n",
       "Semi-Decade                                                       \n",
       "1950             0.367682         -1.013823           -1.097458   \n",
       "1955             1.976291         -1.013823           -1.097458   \n",
       "1960             1.708190         -0.887095           -0.769096   \n",
       "1965            -0.781324         -1.013823            0.850822   \n",
       "1970            -1.126026         -0.760367            1.398092   \n",
       "1975            -0.743024         -0.380184            1.770235   \n",
       "1980            -0.130221          0.506912            1.091621   \n",
       "1985             0.214481         -0.126728            0.741368   \n",
       "1990            -0.589823         -0.126728            0.960276   \n",
       "1995             0.214481         -0.506912           -0.112373   \n",
       "2000             1.401788          0.380184           -0.068591   \n",
       "2005             0.444283          1.140551           -0.593970   \n",
       "2010            -0.819625          2.788013           -1.053677   \n",
       "2015            -1.202627          0.760367           -0.966114   \n",
       "2020            -0.934525          0.253456           -1.053677   \n",
       "\n",
       "Broad Genre  KMeans_Cluster  Hierarchical_Cluster  \n",
       "Semi-Decade                                        \n",
       "1950                      0                     1  \n",
       "1955                      0                     1  \n",
       "1960                      0                     1  \n",
       "1965                      1                     0  \n",
       "1970                      2                     0  \n",
       "1975                      1                     0  \n",
       "1980                      2                     0  \n",
       "1985                      2                     0  \n",
       "1990                      2                     0  \n",
       "1995                      2                     0  \n",
       "2000                      2                     0  \n",
       "2005                      2                     0  \n",
       "2010                      3                     2  \n",
       "2015                      3                     2  \n",
       "2020                      3                     2  "
      ]
     },
     "execution_count": 134,
     "metadata": {},
     "output_type": "execute_result"
    }
   ],
   "source": [
    "def hierarchical_clustering(data):\n",
    "    \n",
    "    hc = AgglomerativeClustering(3)\n",
    "    data['Hierarchical_Cluster'] = hc.fit_predict(data)\n",
    "\n",
    "hierarchical_clustering(genre_counts_sd_scaled)\n",
    "clustered_data"
   ]
  },
  {
   "cell_type": "markdown",
   "id": "6c67cba5-1de4-4563-952a-20a7338550ba",
   "metadata": {},
   "source": [
    "# DATA VISUALIZATION"
   ]
  },
  {
   "cell_type": "markdown",
   "id": "56d36971-6134-4315-801c-44efd1b298fa",
   "metadata": {},
   "source": [
    "### Process Data"
   ]
  },
  {
   "cell_type": "code",
   "execution_count": 135,
   "id": "61516135-3341-4fc5-a2d9-b28bac36bc1a",
   "metadata": {},
   "outputs": [],
   "source": [
    "# Apply PCA\n",
    "pca = PCA(2)\n",
    "\n",
    "vis_data = pd.DataFrame(pca.fit_transform(clustered_data), columns=['PCA1', 'PCA2'])\n",
    "\n",
    "vis_data['KMeans_Cluster'] = clustered_data['KMeans_Cluster'].values\n",
    "vis_data['Hierarchical_Cluster'] = clustered_data['Hierarchical_Cluster'].values"
   ]
  },
  {
   "cell_type": "markdown",
   "id": "585f2a3f-2b4e-4a45-ab3d-5e8b2608b71b",
   "metadata": {},
   "source": [
    "### Visualize Clusters"
   ]
  },
  {
   "cell_type": "code",
   "execution_count": 136,
   "id": "e1e6019d-2d72-4fb1-a47b-39f2b4346beb",
   "metadata": {},
   "outputs": [
    {
     "data": {
      "image/png": "[encoded data removed]",
      "text/plain": [
       "<Figure size 1000x800 with 1 Axes>"
      ]
     },
     "metadata": {},
     "output_type": "display_data"
    },
    {
     "data": {
      "image/png": "[encoded data removed]",
      "text/plain": [
       "<Figure size 1000x800 with 1 Axes>"
      ]
     },
     "metadata": {},
     "output_type": "display_data"
    }
   ],
   "source": [
    "# KMeans\n",
    "plt.figure(figsize = (10,8))\n",
    "sns.scatterplot(data=vis_data, x='PCA1', y='PCA2', hue='KMeans_Cluster', palette='Set1') \n",
    "plt.title(\"Visualization of KMeans Clustering\")\n",
    "plt.xlabel(\"PCA1\")\n",
    "plt.ylabel(\"PCA2\")\n",
    "plt.tight_layout()\n",
    "plt.show()\n",
    "\n",
    "# Hierarchical\n",
    "plt.figure(figsize = (10,8))\n",
    "sns.scatterplot(data=vis_data, x='PCA1', y='PCA2', hue='Hierarchical_Cluster', palette='Set2')\n",
    "plt.title(\"Visualization of Hierarchical Clustering\")\n",
    "plt.xlabel(\"PCA1\")\n",
    "plt.ylabel(\"PCA2\")\n",
    "plt.tight_layout()\n",
    "plt.show()"
   ]
  },
  {
   "cell_type": "markdown",
   "id": "d475efcc-12a1-49cf-9814-34d15c5ee3dc",
   "metadata": {},
   "source": [
    "### Line Plot of Genre Count Over Time (By Year)"
   ]
  },
  {
   "cell_type": "code",
   "execution_count": null,
   "id": "306d41ad-3d82-4f07-81c7-39393038d00f",
   "metadata": {},
   "outputs": [],
   "source": [
    "genre_counts_year.plot(figsize=(12,6), marker='.')\n",
    "plt.title(\"Genre Count Over Time (Year)\")\n",
    "plt.xlabel(\"Year\")\n",
    "plt.ylabel(\"Count of Tracks\")\n",
    "plt.legend(title=\"Genre\")\n",
    "plt.tight_layout()\n",
    "plt.show()"
   ]
  },
  {
   "cell_type": "markdown",
   "id": "438d65ed-6900-4494-9bab-94c9070f9b38",
   "metadata": {},
   "source": [
    "### Line Plot of Genre Count Over Time (By Semi-Decade)"
   ]
  },
  {
   "cell_type": "code",
   "execution_count": null,
   "id": "5b42ce4b-9401-46ae-b96b-e0400aa890e6",
   "metadata": {},
   "outputs": [],
   "source": [
    "genre_counts_sd.plot(figsize=(12,6), marker='.')\n",
    "plt.title(\"Genre Count Over Time (Semi-Decade)\")\n",
    "plt.xlabel(\"Semi-Decade\")\n",
    "plt.ylabel(\"Count of Tracks\")\n",
    "plt.legend(title=\"Genre\")\n",
    "plt.tight_layout()\n",
    "plt.show()"
   ]
  },
  {
   "cell_type": "markdown",
   "id": "f0b068f4-0d85-49d4-bf98-dd073295ae03",
   "metadata": {},
   "source": [
    "### Heatmap Visualization"
   ]
  },
  {
   "cell_type": "code",
   "execution_count": 139,
   "id": "dbbfb420-d4a9-4b77-a0f7-8d04a1840534",
   "metadata": {},
   "outputs": [
    {
     "data": {
      "image/png": "[encoded data removed]",
      "text/plain": [
       "<Figure size 1200x600 with 2 Axes>"
      ]
     },
     "metadata": {},
     "output_type": "display_data"
    }
   ],
   "source": [
    "# Pivot table for Broad Genre vs Decade\n",
    "genre_heatmap_sd = cleaned_df.pivot_table(\n",
    "    index='Broad Genre',\n",
    "    columns='Semi-Decade',\n",
    "    values='Popularity',\n",
    "    aggfunc='count',\n",
    "    fill_value=0\n",
    ")\n",
    "\n",
    "# Plot\n",
    "plt.figure(figsize=(12, 6))\n",
    "sns.heatmap(genre_heatmap_sd, cmap='YlGnBu', linewidths=0.5, linecolor='gray')\n",
    "plt.title('Genre Distribution Over Time (by Semidecade & Broad Genre)', fontsize=14)\n",
    "plt.xlabel('Semidecade')\n",
    "plt.ylabel('Broad Genre')\n",
    "plt.tight_layout()\n",
    "plt.show()"
   ]
  },
  {
   "cell_type": "markdown",
   "id": "c78a8963-b93e-46d6-b298-419dcfb7475e",
   "metadata": {},
   "source": [
    "# Evaluate Quality and Accuracy of Clustering"
   ]
  },
  {
   "cell_type": "markdown",
   "id": "daf8d968-8553-48ca-b023-54e637da9dd0",
   "metadata": {},
   "source": [
    "### Distance Matrix of Data Points"
   ]
  },
  {
   "cell_type": "code",
   "execution_count": 140,
   "id": "ffa3aef7-6ed9-4075-919b-82982521f3a6",
   "metadata": {},
   "outputs": [
    {
     "data": {
      "image/png": "[encoded data removed]",
      "text/plain": [
       "<Figure size 1000x600 with 2 Axes>"
      ]
     },
     "metadata": {},
     "output_type": "display_data"
    }
   ],
   "source": [
    "# Distance Matrix Visualization\n",
    "distance_matrix = squareform(pdist(genre_counts_sd_scaled))\n",
    "\n",
    "fig, ax = plt.subplots(figsize=(10, 6))\n",
    "cax = ax.matshow(distance_matrix, cmap='viridis')\n",
    "ax.xaxis.set_ticks_position('bottom')\n",
    "\n",
    "cbar = fig.colorbar(cax)\n",
    "cbar.ax.set_ylabel('Distance', rotation=270, labelpad=15)\n",
    "\n",
    "plt.title('Distance Matrix')\n",
    "plt.xlabel('Cluster Index')\n",
    "plt.ylabel('Cluster Index')\n",
    "plt.tight_layout()\n",
    "plt.show()"
   ]
  },
  {
   "cell_type": "markdown",
   "id": "3d208c90-a8e2-4f2f-8034-577826b5d575",
   "metadata": {},
   "source": [
    "### Location of Data Points in the CLusters"
   ]
  },
  {
   "cell_type": "code",
   "execution_count": 141,
   "id": "ae5468ba-508a-4160-9c76-317cc41965d2",
   "metadata": {},
   "outputs": [
    {
     "data": {
      "image/png": "[encoded data removed]",
      "text/plain": [
       "<Figure size 2000x1500 with 2 Axes>"
      ]
     },
     "metadata": {},
     "output_type": "display_data"
    }
   ],
   "source": [
    "heat_kmeans = clustered_data.groupby(['Semi-Decade', 'KMeans_Cluster']).size().unstack(fill_value=0)\n",
    "heat_hc = clustered_data.groupby(['Semi-Decade', 'Hierarchical_Cluster']).size().unstack(fill_value=0)\n",
    "\n",
    "fig, axes = plt.subplots(1, 2, figsize=(20, 15)) \n",
    "\n",
    "# KMeans Clustering Heatmap\n",
    "sns.heatmap(heat_kmeans, cmap=\"magma\", cbar=False, ax=axes[0])\n",
    "axes[0].set_title(\"KMeans Clustering\")\n",
    "axes[0].set_xlabel(\"Cluster\")\n",
    "axes[0].set_ylabel(\"Semi-Decade\")\n",
    "\n",
    "# Hierarchical Clustering Heatmap\n",
    "sns.heatmap(heat_hc, cmap=\"magma\", cbar=False, ax=axes[1])\n",
    "axes[1].set_title(\"Hierarchical Clustering\")\n",
    "axes[1].set_xlabel(\"Cluster\")\n",
    "axes[1].set_ylabel(\"Semi-Decade\")\n",
    "\n",
    "plt.tight_layout()\n",
    "plt.show()"
   ]
  },
  {
   "cell_type": "code",
   "execution_count": null,
   "id": "ffc49efc-00d0-4899-9583-5e03502bb80b",
   "metadata": {},
   "outputs": [],
   "source": []
  }
 ],
 "metadata": {
  "kernelspec": {
   "display_name": "Python 3 (ipykernel)",
   "language": "python",
   "name": "python3"
  },
  "language_info": {
   "codemirror_mode": {
    "name": "ipython",
    "version": 3
   },
   "file_extension": ".py",
   "mimetype": "text/x-python",
   "name": "python",
   "nbconvert_exporter": "python",
   "pygments_lexer": "ipython3",
   "version": "3.12.7"
  }
 },
 "nbformat": 4,
 "nbformat_minor": 5
}
